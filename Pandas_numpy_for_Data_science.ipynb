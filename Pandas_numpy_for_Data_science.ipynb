{
 "cells": [
  {
   "cell_type": "markdown",
   "id": "71c8af55",
   "metadata": {},
   "source": [
    "Introduction à NumPy\n",
    "\n",
    "\n",
    "NumPy est une bibliothèque Python essentielle pour le calcul scientifique. Elle fournit des tableaux multidimensionnels rapides, efficaces et optimisés, ainsi que des fonctions mathématiques pour travailler avec ces tableaux. NumPy est souvent utilisée comme base pour de nombreuses autres bibliothèques de science des données."
   ]
  },
  {
   "cell_type": "code",
   "execution_count": null,
   "id": "ad8839b9",
   "metadata": {},
   "outputs": [],
   "source": [
    "# installation de numpy \n",
    "pip install numpy\n"
   ]
  },
  {
   "cell_type": "code",
   "execution_count": 1,
   "id": "0ff98afc",
   "metadata": {},
   "outputs": [],
   "source": [
    "import numpy as np"
   ]
  },
  {
   "cell_type": "markdown",
   "id": "281aa216",
   "metadata": {},
   "source": [
    "Création de tableaux NumPy"
   ]
  },
  {
   "cell_type": "code",
   "execution_count": 5,
   "id": "deb35342",
   "metadata": {},
   "outputs": [
    {
     "name": "stdout",
     "output_type": "stream",
     "text": [
      "[1 2 3 4 5]\n",
      "[[0.00000000e+000 0.00000000e+000 0.00000000e+000]\n",
      " [0.00000000e+000 0.00000000e+000 6.64024228e-321]\n",
      " [9.33678148e-312 2.00485144e-307 0.00000000e+000]]\n",
      "[0 1 2 3 4 5 6 7 8 9]\n",
      "[[0. 0. 0. 0.]\n",
      " [0. 0. 0. 0.]]\n",
      "[[1. 1.]\n",
      " [1. 1.]\n",
      " [1. 1.]]\n",
      "[0.   0.25 0.5  0.75 1.  ]\n",
      "[0 2 4 6 8]\n"
     ]
    }
   ],
   "source": [
    "# Créer un tableau à partir d'une liste\n",
    "data_list = [1, 2, 3, 4, 5]\n",
    "numpy_array = np.array(data_list)\n",
    "print(numpy_array)\n",
    "\n",
    "# Créer un tableau vide de dimension donnée\n",
    "empty_array = np.empty((3, 3))\n",
    "print(empty_array)\n",
    "\n",
    "# Créer un tableau de valeurs allant de 0 à 9\n",
    "arr = np.arange(10)\n",
    "print(arr)\n",
    "\n",
    "# Créer un tableau de zéros de dimension donnée\n",
    "zeros_array = np.zeros((2, 4))\n",
    "print(zeros_array)\n",
    "\n",
    "# Créer un tableau de uns de dimension donnée\n",
    "ones_array = np.ones((3, 2))\n",
    "print(ones_array)\n",
    "\n",
    "\n",
    "# Créer un tableau de 5 valeurs équidistantes entre 0 et 1\n",
    "linspace_arr = np.linspace(0, 1, 5)\n",
    "print(linspace_arr)\n",
    "\n",
    "\n",
    "\n",
    "# Créer un tableau de valeurs équidistantes\n",
    "start = 0\n",
    "end = 10\n",
    "step = 2\n",
    "range_array = np.arange(start, end, step)\n",
    "print(range_array)\n"
   ]
  },
  {
   "cell_type": "markdown",
   "id": "66bf01e5",
   "metadata": {},
   "source": [
    "Opérations avec les tableaux NumPy"
   ]
  },
  {
   "cell_type": "code",
   "execution_count": 4,
   "id": "78a69798",
   "metadata": {},
   "outputs": [
    {
     "name": "stdout",
     "output_type": "stream",
     "text": [
      "Addition: [5 7 9]\n",
      "Soustraction: [-3 -3 -3]\n",
      "Multiplication: [ 4 10 18]\n",
      "Division: [0.25 0.4  0.5 ]\n",
      "Produit scalaire: 32\n"
     ]
    }
   ],
   "source": [
    "import numpy as np\n",
    "\n",
    "array1 = np.array([1, 2, 3])\n",
    "array2 = np.array([4, 5, 6])\n",
    "\n",
    "# Opérations mathématiques\n",
    "result_add = array1 + array2\n",
    "print(\"Addition:\", result_add)\n",
    "\n",
    "result_sub = array1 - array2\n",
    "print(\"Soustraction:\", result_sub)\n",
    "\n",
    "result_mul = array1 * array2\n",
    "print(\"Multiplication:\", result_mul)\n",
    "\n",
    "result_div = array1 / array2\n",
    "print(\"Division:\", result_div)\n",
    "\n",
    "# Produit scalaire (dot product)\n",
    "dot_product = np.dot(array1, array2)\n",
    "print(\"Produit scalaire:\", dot_product)\n"
   ]
  },
  {
   "cell_type": "code",
   "execution_count": 6,
   "id": "275aafd4",
   "metadata": {},
   "outputs": [
    {
     "name": "stdout",
     "output_type": "stream",
     "text": [
      "Tableau NumPy : [1 2 3 4 5]\n",
      "Données aléatoires : [0.96496481 0.53128595 0.98136877 0.87907442 0.96472968]\n"
     ]
    }
   ],
   "source": [
    "# Création d'un tableau NumPy à partir d'une liste\n",
    "data_list = [1, 2, 3, 4, 5]\n",
    "data_np = np.array(data_list)\n",
    "print(\"Tableau NumPy :\", data_np)\n",
    "\n",
    "# Création d'un tableau NumPy de valeurs aléatoires\n",
    "random_data = np.random.rand(5)  # Crée un tableau 1D de 5 valeurs aléatoires entre 0 et 1\n",
    "print(\"Données aléatoires :\", random_data)\n",
    "\n",
    "# Rôle : NumPy est utilisé pour manipuler des tableaux multidimensionnels (appelés ndarray) et effectuer des opérations mathématiques rapides sur ces tableaux.\n"
   ]
  },
  {
   "cell_type": "markdown",
   "id": "24c0d16b",
   "metadata": {},
   "source": [
    "Opérations statistiques avec NumPy"
   ]
  },
  {
   "cell_type": "code",
   "execution_count": 7,
   "id": "279fe837",
   "metadata": {},
   "outputs": [
    {
     "name": "stdout",
     "output_type": "stream",
     "text": [
      "Moyenne : 30.0\n",
      "Somme cumulée : [ 10  30  60 100 150]\n",
      "Indice du maximum : 4\n"
     ]
    }
   ],
   "source": [
    "\n",
    "data = np.array([10, 20, 30, 40, 50])\n",
    "\n",
    "# Calcul de la moyenne\n",
    "mean_value = np.mean(data)\n",
    "print(\"Moyenne :\", mean_value)\n",
    "\n",
    "# Calcul de la somme cumulée\n",
    "cumulative_sum = np.cumsum(data)\n",
    "print(\"Somme cumulée :\", cumulative_sum)\n",
    "\n",
    "# Trouver l'indice du maximum\n",
    "max_index = np.argmax(data)\n",
    "print(\"Indice du maximum :\", max_index)\n",
    "\n",
    "# Rôle : NumPy fournit des fonctions pour effectuer des opérations statistiques et mathématiques rapides sur les tableaux de données.\n",
    "\n"
   ]
  },
  {
   "cell_type": "code",
   "execution_count": 16,
   "id": "d424ae9d",
   "metadata": {},
   "outputs": [
    {
     "name": "stdout",
     "output_type": "stream",
     "text": [
      "Shape du tableau : (2, 3)\n",
      "Nouveau tableau reshape :\n",
      " [[1 2 3]\n",
      " [4 5 6]]\n"
     ]
    }
   ],
   "source": [
    "#shape : Il s'agit d'un attribut d'un tableau NumPy qui renvoie un tuple contenant les dimensions du tableau\n",
    "data_np = np.array([[1, 2, 3], [4, 5, 6]])\n",
    "print(\"Shape du tableau :\", data_np.shape)  # Affiche (2, 3) car le tableau a 2 lignes et 3 colonnes\n",
    "\n",
    "\n",
    "\n",
    "# reshape : Cette fonction permet de modifier la forme d'un tableau NumPy en lui donnant de nouvelles dimensions.\n",
    "data_np = np.array([1, 2, 3, 4, 5, 6])\n",
    "reshaped_data = data_np.reshape(2, 3)\n",
    "print(\"Nouveau tableau reshape :\\n\", reshaped_data)\n"
   ]
  },
  {
   "cell_type": "code",
   "execution_count": null,
   "id": "3dc1aa7b",
   "metadata": {},
   "outputs": [],
   "source": []
  },
  {
   "cell_type": "markdown",
   "id": "361d64ea",
   "metadata": {},
   "source": [
    "Introduction à Pandas\n",
    "\n",
    "\n",
    "Pandas est une bibliothèque Python populaire pour la manipulation et l'analyse de données. Elle offre des structures de données puissantes et faciles à utiliser, comme les DataFrame, pour travailler efficacement avec des données tabulaires."
   ]
  },
  {
   "cell_type": "code",
   "execution_count": null,
   "id": "a9311853",
   "metadata": {},
   "outputs": [],
   "source": [
    "# installation de pandas \n",
    "pip install pandas\n"
   ]
  },
  {
   "cell_type": "markdown",
   "id": "468ce479",
   "metadata": {},
   "source": [
    "Travaux pratiques avec Pandas :"
   ]
  },
  {
   "cell_type": "code",
   "execution_count": 8,
   "id": "0717e425",
   "metadata": {},
   "outputs": [
    {
     "name": "stdout",
     "output_type": "stream",
     "text": [
      "DataFrame Pandas :\n",
      "       Nom  Âge      Ville\n",
      "0    Alice   25      Paris\n",
      "1      Bob   30       Lyon\n",
      "2  Charlie   22  Marseille\n",
      "3    David   35   Bordeaux\n",
      "4      Eva   28      Lille\n",
      "\n",
      "Informations sur le DataFrame :\n",
      "<class 'pandas.core.frame.DataFrame'>\n",
      "RangeIndex: 5 entries, 0 to 4\n",
      "Data columns (total 3 columns):\n",
      " #   Column  Non-Null Count  Dtype \n",
      "---  ------  --------------  ----- \n",
      " 0   Nom     5 non-null      object\n",
      " 1   Âge     5 non-null      int64 \n",
      " 2   Ville   5 non-null      object\n",
      "dtypes: int64(1), object(2)\n",
      "memory usage: 248.0+ bytes\n",
      "None\n"
     ]
    }
   ],
   "source": [
    "import pandas as pd\n",
    "\n",
    "# Création d'un DataFrame à partir d'un dictionnaire\n",
    "data_dict = {\n",
    "    'Nom': ['Alice', 'Bob', 'Charlie', 'David', 'Eva'],\n",
    "    'Âge': [25, 30, 22, 35, 28],\n",
    "    'Ville': ['Paris', 'Lyon', 'Marseille', 'Bordeaux', 'Lille']\n",
    "}\n",
    "\n",
    "data_df = pd.DataFrame(data_dict)\n",
    "print(\"DataFrame Pandas :\")\n",
    "print(data_df)\n",
    "\n",
    "# Afficher les informations sur le DataFrame\n",
    "print(\"\\nInformations sur le DataFrame :\")\n",
    "print(data_df.info())\n",
    "\n",
    "# Rôle : Pandas est utilisé pour travailler avec des données tabulaires sous forme de DataFrame, permettant de stocker, nettoyer et explorer facilement les données.\n",
    "\n"
   ]
  },
  {
   "cell_type": "markdown",
   "id": "ddafed82",
   "metadata": {},
   "source": [
    "Sélection et filtrage des données"
   ]
  },
  {
   "cell_type": "code",
   "execution_count": 9,
   "id": "f875a275",
   "metadata": {},
   "outputs": [
    {
     "name": "stdout",
     "output_type": "stream",
     "text": [
      "Colonnes 'Âge' : \n",
      "0    25\n",
      "1    30\n",
      "2    22\n",
      "3    35\n",
      "4    28\n",
      "Name: Âge, dtype: int64\n",
      "Personnes de plus de 25 ans : \n",
      "     Nom  Âge     Ville\n",
      "1    Bob   30      Lyon\n",
      "3  David   35  Bordeaux\n",
      "4    Eva   28     Lille\n"
     ]
    }
   ],
   "source": [
    "data_dict = {\n",
    "    'Nom': ['Alice', 'Bob', 'Charlie', 'David', 'Eva'],\n",
    "    'Âge': [25, 30, 22, 35, 28],\n",
    "    'Ville': ['Paris', 'Lyon', 'Marseille', 'Bordeaux', 'Lille']\n",
    "}\n",
    "\n",
    "data_df = pd.DataFrame(data_dict)\n",
    "\n",
    "# Sélection d'une colonne spécifique\n",
    "ages = data_df['Âge']\n",
    "print(\"Colonnes 'Âge' : \")\n",
    "print(ages)\n",
    "\n",
    "# Sélection de lignes basées sur une condition\n",
    "filtered_data = data_df[data_df['Âge'] > 25]\n",
    "print(\"Personnes de plus de 25 ans : \")\n",
    "print(filtered_data)\n",
    "\n",
    "# Rôle : Pandas offre des fonctionnalités de sélection et de filtrage puissantes pour extraire les données pertinentes d'un DataFrame.\n",
    "\n"
   ]
  },
  {
   "cell_type": "code",
   "execution_count": 11,
   "id": "474a2ec4",
   "metadata": {},
   "outputs": [
    {
     "name": "stdout",
     "output_type": "stream",
     "text": [
      "Première ligne (iloc) :\n",
      " Nom      Alice\n",
      "Âge         25\n",
      "Ville    Paris\n",
      "Name: 0, dtype: object\n",
      "Élément à la position (1, 2) (iloc) : Lyon\n"
     ]
    }
   ],
   "source": [
    "#iloc : Permet d'accéder aux données dans un DataFrame en utilisant les index numériques des lignes et des colonnes.\n",
    "\n",
    "data_dict = {\n",
    "    'Nom': ['Alice', 'Bob', 'Charlie'],\n",
    "    'Âge': [25, 30, 22],\n",
    "    'Ville': ['Paris', 'Lyon', 'Marseille']\n",
    "}\n",
    "\n",
    "data_df = pd.DataFrame(data_dict)\n",
    "\n",
    "# Accéder à la première ligne\n",
    "row_iloc = data_df.iloc[0]\n",
    "print(\"Première ligne (iloc) :\\n\", row_iloc)\n",
    "\n",
    "# Accéder à un élément spécifique\n",
    "element_iloc = data_df.iloc[1, 2]  # Ligne 1, Colonne 2\n",
    "print(\"Élément à la position (1, 2) (iloc) :\", element_iloc)\n"
   ]
  },
  {
   "cell_type": "code",
   "execution_count": 12,
   "id": "05ee3469",
   "metadata": {},
   "outputs": [
    {
     "name": "stdout",
     "output_type": "stream",
     "text": [
      "Ligne avec index 'b' (loc) :\n",
      " Nom       Bob\n",
      "Âge        30\n",
      "Ville    Lyon\n",
      "Name: b, dtype: object\n",
      "Élément à la position ('c', 'Ville') (loc) : Marseille\n"
     ]
    }
   ],
   "source": [
    "#loc : Permet d'accéder aux données dans un DataFrame en utilisant les index label des lignes et des colonnes.\n",
    "\n",
    "\n",
    "\n",
    "data_dict = {\n",
    "    'Nom': ['Alice', 'Bob', 'Charlie'],\n",
    "    'Âge': [25, 30, 22],\n",
    "    'Ville': ['Paris', 'Lyon', 'Marseille']\n",
    "}\n",
    "\n",
    "data_df = pd.DataFrame(data_dict, index=['a', 'b', 'c'])\n",
    "\n",
    "# Accéder à la ligne avec l'index 'b'\n",
    "row_loc = data_df.loc['b']\n",
    "print(\"Ligne avec index 'b' (loc) :\\n\", row_loc)\n",
    "\n",
    "# Accéder à un élément spécifique\n",
    "element_loc = data_df.loc['c', 'Ville']  # Ligne 'c', Colonne 'Ville'\n",
    "print(\"Élément à la position ('c', 'Ville') (loc) :\", element_loc)\n"
   ]
  },
  {
   "cell_type": "code",
   "execution_count": 13,
   "id": "29574f46",
   "metadata": {},
   "outputs": [
    {
     "name": "stdout",
     "output_type": "stream",
     "text": [
      "DataFrame avec colonne insérée :\n",
      "        Nom      Ville  Âge\n",
      "0    Alice      Paris   25\n",
      "1      Bob       Lyon   30\n",
      "2  Charlie  Marseille   22\n"
     ]
    }
   ],
   "source": [
    "# insert : Cette fonction permet d'insérer une nouvelle colonne dans un DataFrame à une position spécifique.\n",
    "\n",
    "data_dict = {\n",
    "    'Nom': ['Alice', 'Bob', 'Charlie'],\n",
    "    'Âge': [25, 30, 22],\n",
    "}\n",
    "\n",
    "data_df = pd.DataFrame(data_dict)\n",
    "\n",
    "data_df.insert(1, 'Ville', ['Paris', 'Lyon', 'Marseille'])\n",
    "print(\"DataFrame avec colonne insérée :\\n\", data_df)\n",
    "\n"
   ]
  },
  {
   "cell_type": "code",
   "execution_count": 17,
   "id": "de10faf6",
   "metadata": {},
   "outputs": [
    {
     "name": "stdout",
     "output_type": "stream",
     "text": [
      "DataFrame avec colonnes modifiées :\n",
      "   Note  Score\n",
      "0    A     90\n",
      "1    B     80\n",
      "2    C     70\n",
      "3    A     90\n",
      "4    F     60\n"
     ]
    }
   ],
   "source": [
    "# map et replace : Ces méthodes permettent de remplacer les valeurs dans une colonne d'un DataFrame en utilisant une correspondance prédéfinie.\n",
    "\n",
    "data_dict = {\n",
    "    'Note': ['A', 'B', 'C', 'A', 'D']\n",
    "}\n",
    "\n",
    "data_df = pd.DataFrame(data_dict)\n",
    "\n",
    "# Utiliser map pour remplacer les notes par des scores numériques\n",
    "grade_to_score = {'A': 90, 'B': 80, 'C': 70, 'D': 60}\n",
    "data_df['Score'] = data_df['Note'].map(grade_to_score)\n",
    "\n",
    "# Utiliser replace pour remplacer les notes spécifiques\n",
    "data_df['Note'] = data_df['Note'].replace({'D': 'F'})\n",
    "\n",
    "print(\"DataFrame avec colonnes modifiées :\\n\", data_df)\n",
    "\n"
   ]
  },
  {
   "cell_type": "code",
   "execution_count": null,
   "id": "aec0a5f9",
   "metadata": {},
   "outputs": [],
   "source": []
  }
 ],
 "metadata": {
  "kernelspec": {
   "display_name": "Python 3 (ipykernel)",
   "language": "python",
   "name": "python3"
  },
  "language_info": {
   "codemirror_mode": {
    "name": "ipython",
    "version": 3
   },
   "file_extension": ".py",
   "mimetype": "text/x-python",
   "name": "python",
   "nbconvert_exporter": "python",
   "pygments_lexer": "ipython3",
   "version": "3.10.9"
  }
 },
 "nbformat": 4,
 "nbformat_minor": 5
}
